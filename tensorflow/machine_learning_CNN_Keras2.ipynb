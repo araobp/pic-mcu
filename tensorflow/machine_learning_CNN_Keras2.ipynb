{
 "cells": [
  {
   "cell_type": "markdown",
   "metadata": {},
   "source": [
    "# Machine learning with TensorFlow: CNN\n",
    "\n",
    "Date: September 4, 2020\n",
    "\n",
    "Neural network: convolution, fully-connected and softmax\n",
    "\n",
    "Classification of human body motion:\n",
    "- walking\n",
    "- sitting down\n",
    "- turning right while walking\n",
    "- turning left while walking"
   ]
  },
  {
   "cell_type": "code",
   "execution_count": 1,
   "metadata": {},
   "outputs": [],
   "source": [
    "%matplotlib inline\n",
    "\n",
    "import matplotlib\n",
    "import matplotlib.pyplot as plt\n",
    "import numpy as np\n",
    "import pandas as pd\n",
    "import scipy.signal as sg\n",
    "import serial\n",
    "import time\n",
    "import random"
   ]
  },
  {
   "cell_type": "markdown",
   "metadata": {},
   "source": [
    "## Preparing data set for training CNN"
   ]
  },
  {
   "cell_type": "code",
   "execution_count": 2,
   "metadata": {},
   "outputs": [],
   "source": [
    "SAMPLE_NUMS = 260  # per sec\n",
    "SAMPLING_RATE = 80.0  # Hz\n",
    "GYRO_RANGE = 250.0  # DPS\n",
    "ACCEL_RANGE = 2.0  # G\n",
    "\n",
    "GYRO_RESOLUTION = GYRO_RANGE / 32768.0\n",
    "ACCEL_RESOLUTION = ACCEL_RANGE / 32768.0\n",
    "\n",
    "TRAINING_SET = [['./20180821_walking_straight.csv', 0],\n",
    "               ['./20180821_sitting.csv', 1],\n",
    "               ['./20180821_turning_left.csv', 2],\n",
    "               ['./20180821_turning_right.csv', 3],                \n",
    "               ['./20180823_walking_straight.csv', 0],\n",
    "               ['./20180823_sitting.csv', 1],\n",
    "               ['./20180823_turning_left.csv', 2],\n",
    "               ['./20180823_turning_right.csv', 3]]\n",
    "\n",
    "TEST_SET = [['./20180822_walking_straight.csv', 0],\n",
    "            ['./20180822_sitting.csv', 1],\n",
    "            ['./20180822_turning_left.csv', 2],\n",
    "            ['./20180822_turning_right.csv', 3]]\n",
    "\n",
    "TIME_INTERVAL = 260.0 / SAMPLING_RATE  # sec\n",
    "\n",
    "MEASUREMENTS = 8\n",
    "RECORDS = 260"
   ]
  },
  {
   "cell_type": "code",
   "execution_count": 3,
   "metadata": {},
   "outputs": [],
   "source": [
    "gres = lambda v: v * GYRO_RESOLUTION\n",
    "ares = lambda v: v * ACCEL_RESOLUTION\n",
    "to_time = lambda v: v / SAMPLING_RATE\n",
    "\n",
    "def conv(df, lpf=False):\n",
    "    df[['gx', 'gy', 'gz']] = df[['gx', 'gy', 'gz']].apply(gres)\n",
    "    df[['ax', 'ay', 'az']] = df[['ax', 'ay', 'az']].apply(ares)\n",
    "    if lpf:\n",
    "        CUTOFF = 10.0\n",
    "        b, a = sg.butter(5, CUTOFF/SAMPLING_RATE, btype='low')\n",
    "        df[['ax', 'ay', 'az']] = df[['ax', 'ay', 'az']].apply(lambda row: sg.lfilter(b, a, row))\n",
    "        CUTOFF = 10.0\n",
    "        b, a = sg.butter(5, CUTOFF/SAMPLING_RATE, btype='low')\n",
    "        df[['gx', 'gy', 'gz']] = df[['gx', 'gy', 'gz']].apply(lambda row: sg.lfilter(b, a, row))\n",
    "    df[['cnt']] = df[['cnt']].apply(to_time)\n",
    "    df.set_index('cnt', drop=True, inplace=True)"
   ]
  },
  {
   "cell_type": "code",
   "execution_count": 4,
   "metadata": {
    "scrolled": false
   },
   "outputs": [],
   "source": [
    "training_set = []\n",
    "test_set = []\n",
    "\n",
    "for file, l in TRAINING_SET:\n",
    "    df = pd.read_csv(file, dtype=np.int16)\n",
    "    conv(df, lpf=True)\n",
    "    for i in range(MEASUREMENTS):\n",
    "        training_set.append([df[df['id']==i], l])\n",
    "        \n",
    "for file, l in TEST_SET:\n",
    "    df = pd.read_csv(file, dtype=np.int16)\n",
    "    conv(df, lpf=True)\n",
    "    for i in range(MEASUREMENTS):\n",
    "        test_set.append([df[df['id']==i], l])\n",
    "    \n",
    "random.shuffle(training_set)\n",
    "random.shuffle(test_set)"
   ]
  },
  {
   "cell_type": "code",
   "execution_count": 5,
   "metadata": {
    "scrolled": false
   },
   "outputs": [],
   "source": [
    "# use accel x axis and gyro z axis values for classification of human body motion\n",
    "train_x, train_t = [], []\n",
    "test_x, test_t = [], []\n",
    "for df, label in training_set:\n",
    "    values = []\n",
    "    for index, item in df.iterrows():\n",
    "        values.append([item['ax'],item['ay'],item['az'],item['gx'],item['gy'],item['gz']])\n",
    "    train_x.append(values)\n",
    "    train_t.append(label)\n",
    "for df, label in test_set:\n",
    "    values = []\n",
    "    for index, item in df.iterrows():\n",
    "        values.append([item['ax'],item['ay'],item['az'],item['gx'],item['gy'],item['gz']])                     \n",
    "    test_x.append(values)\n",
    "    test_t.append(label)"
   ]
  },
  {
   "cell_type": "code",
   "execution_count": 6,
   "metadata": {},
   "outputs": [
    {
     "data": {
      "text/plain": [
       "(64, 260, 6)"
      ]
     },
     "execution_count": 6,
     "metadata": {},
     "output_type": "execute_result"
    }
   ],
   "source": [
    "from keras.utils import to_categorical\n",
    "\n",
    "train_labels=to_categorical(train_t)\n",
    "test_labels=to_categorical(test_t)\n",
    "\n",
    "train_data = np.array(train_x)\n",
    "test_data = np.array(test_x)\n",
    "\n",
    "train_data.shape"
   ]
  },
  {
   "cell_type": "markdown",
   "metadata": {},
   "source": [
    "## Keras/TensorFlow"
   ]
  },
  {
   "cell_type": "code",
   "execution_count": 7,
   "metadata": {},
   "outputs": [],
   "source": [
    "num_samples = 260\n",
    "num_classes = 4\n",
    "num_layers = 6"
   ]
  },
  {
   "cell_type": "code",
   "execution_count": 8,
   "metadata": {},
   "outputs": [
    {
     "name": "stdout",
     "output_type": "stream",
     "text": [
      "Model: \"sequential\"\n",
      "_________________________________________________________________\n",
      "Layer (type)                 Output Shape              Param #   \n",
      "=================================================================\n",
      "conv1d (Conv1D)              (None, 249, 4)            292       \n",
      "_________________________________________________________________\n",
      "max_pooling1d (MaxPooling1D) (None, 124, 4)            0         \n",
      "_________________________________________________________________\n",
      "conv1d_1 (Conv1D)            (None, 113, 8)            392       \n",
      "_________________________________________________________________\n",
      "max_pooling1d_1 (MaxPooling1 (None, 56, 8)             0         \n",
      "_________________________________________________________________\n",
      "conv1d_2 (Conv1D)            (None, 45, 16)            1552      \n",
      "_________________________________________________________________\n",
      "max_pooling1d_2 (MaxPooling1 (None, 22, 16)            0         \n",
      "_________________________________________________________________\n",
      "flatten (Flatten)            (None, 352)               0         \n",
      "_________________________________________________________________\n",
      "dropout (Dropout)            (None, 352)               0         \n",
      "_________________________________________________________________\n",
      "dense (Dense)                (None, 4)                 1412      \n",
      "=================================================================\n",
      "Total params: 3,648\n",
      "Trainable params: 3,648\n",
      "Non-trainable params: 0\n",
      "_________________________________________________________________\n"
     ]
    }
   ],
   "source": [
    "from keras import layers\n",
    "from keras import models\n",
    "\n",
    "model = models.Sequential()\n",
    "\n",
    "model.add(layers.Conv1D(4, 12, activation='relu', input_shape=(num_samples, num_layers)))\n",
    "model.add(layers.MaxPooling1D(2))\n",
    "\n",
    "model.add(layers.Conv1D(8, 12, activation='relu'))\n",
    "model.add(layers.MaxPooling1D(2))\n",
    "\n",
    "model.add(layers.Conv1D(16, 12, activation='relu'))\n",
    "model.add(layers.MaxPooling1D(2))\n",
    "\n",
    "model.add(layers.Flatten())\n",
    "model.add(layers.Dropout(0.5))\n",
    "model.add(layers.Dense(num_classes, activation='softmax'))\n",
    "\n",
    "model.summary()"
   ]
  },
  {
   "cell_type": "code",
   "execution_count": 9,
   "metadata": {},
   "outputs": [],
   "source": [
    "model.compile(optimizer='rmsprop', loss='categorical_crossentropy', metrics=['accuracy'])\n",
    "\n",
    "from IPython.display import SVG\n",
    "from keras.utils.vis_utils import model_to_dot"
   ]
  },
  {
   "cell_type": "code",
   "execution_count": 10,
   "metadata": {},
   "outputs": [
    {
     "name": "stdout",
     "output_type": "stream",
     "text": [
      "Epoch 1/30\n",
      "7/7 [==============================] - 0s 37ms/step - loss: 3.0884 - accuracy: 0.2031 - val_loss: 1.2630 - val_accuracy: 0.3750\n",
      "Epoch 2/30\n",
      "7/7 [==============================] - 0s 9ms/step - loss: 1.6994 - accuracy: 0.3750 - val_loss: 1.0800 - val_accuracy: 0.4688\n",
      "Epoch 3/30\n",
      "7/7 [==============================] - 0s 9ms/step - loss: 1.3817 - accuracy: 0.3906 - val_loss: 0.9205 - val_accuracy: 0.5625\n",
      "Epoch 4/30\n",
      "7/7 [==============================] - 0s 8ms/step - loss: 1.1343 - accuracy: 0.4844 - val_loss: 0.8047 - val_accuracy: 0.6562\n",
      "Epoch 5/30\n",
      "7/7 [==============================] - 0s 8ms/step - loss: 1.0960 - accuracy: 0.5156 - val_loss: 0.8025 - val_accuracy: 0.6250\n",
      "Epoch 6/30\n",
      "7/7 [==============================] - 0s 9ms/step - loss: 0.7194 - accuracy: 0.6875 - val_loss: 0.7807 - val_accuracy: 0.5938\n",
      "Epoch 7/30\n",
      "7/7 [==============================] - 0s 8ms/step - loss: 0.8844 - accuracy: 0.6094 - val_loss: 0.6810 - val_accuracy: 0.7188\n",
      "Epoch 8/30\n",
      "7/7 [==============================] - 0s 8ms/step - loss: 0.8186 - accuracy: 0.6094 - val_loss: 0.6371 - val_accuracy: 0.7500\n",
      "Epoch 9/30\n",
      "7/7 [==============================] - 0s 9ms/step - loss: 0.5779 - accuracy: 0.7344 - val_loss: 0.5918 - val_accuracy: 0.8438\n",
      "Epoch 10/30\n",
      "7/7 [==============================] - 0s 9ms/step - loss: 0.6381 - accuracy: 0.6719 - val_loss: 0.5792 - val_accuracy: 0.7812\n",
      "Epoch 11/30\n",
      "7/7 [==============================] - 0s 8ms/step - loss: 0.5207 - accuracy: 0.8281 - val_loss: 0.4895 - val_accuracy: 0.8750\n",
      "Epoch 12/30\n",
      "7/7 [==============================] - 0s 9ms/step - loss: 0.4906 - accuracy: 0.8438 - val_loss: 0.4408 - val_accuracy: 0.8750\n",
      "Epoch 13/30\n",
      "7/7 [==============================] - 0s 9ms/step - loss: 0.3447 - accuracy: 0.9531 - val_loss: 0.3769 - val_accuracy: 0.9375\n",
      "Epoch 14/30\n",
      "7/7 [==============================] - 0s 9ms/step - loss: 0.3358 - accuracy: 0.8750 - val_loss: 0.3961 - val_accuracy: 0.8750\n",
      "Epoch 15/30\n",
      "7/7 [==============================] - 0s 8ms/step - loss: 0.2588 - accuracy: 0.9531 - val_loss: 0.4324 - val_accuracy: 0.9062\n",
      "Epoch 16/30\n",
      "7/7 [==============================] - 0s 9ms/step - loss: 0.2003 - accuracy: 0.9531 - val_loss: 0.2363 - val_accuracy: 0.9375\n",
      "Epoch 17/30\n",
      "7/7 [==============================] - 0s 9ms/step - loss: 0.1749 - accuracy: 0.9688 - val_loss: 0.1963 - val_accuracy: 0.9688\n",
      "Epoch 18/30\n",
      "7/7 [==============================] - 0s 9ms/step - loss: 0.2017 - accuracy: 0.9219 - val_loss: 0.3764 - val_accuracy: 0.8438\n",
      "Epoch 19/30\n",
      "7/7 [==============================] - 0s 9ms/step - loss: 0.1285 - accuracy: 0.9844 - val_loss: 0.2069 - val_accuracy: 0.9375\n",
      "Epoch 20/30\n",
      "7/7 [==============================] - 0s 9ms/step - loss: 0.0689 - accuracy: 1.0000 - val_loss: 0.1982 - val_accuracy: 0.8750\n",
      "Epoch 21/30\n",
      "7/7 [==============================] - 0s 8ms/step - loss: 0.0902 - accuracy: 0.9844 - val_loss: 0.2166 - val_accuracy: 0.8750\n",
      "Epoch 22/30\n",
      "7/7 [==============================] - 0s 9ms/step - loss: 0.0164 - accuracy: 1.0000 - val_loss: 0.2244 - val_accuracy: 0.9375\n",
      "Epoch 23/30\n",
      "7/7 [==============================] - 0s 8ms/step - loss: 0.1517 - accuracy: 0.9531 - val_loss: 0.1079 - val_accuracy: 0.9375\n",
      "Epoch 24/30\n",
      "7/7 [==============================] - 0s 9ms/step - loss: 0.0404 - accuracy: 1.0000 - val_loss: 0.1937 - val_accuracy: 0.9375\n",
      "Epoch 25/30\n",
      "7/7 [==============================] - 0s 8ms/step - loss: 0.0249 - accuracy: 1.0000 - val_loss: 0.3266 - val_accuracy: 0.8750\n",
      "Epoch 26/30\n",
      "7/7 [==============================] - 0s 8ms/step - loss: 0.1537 - accuracy: 0.9531 - val_loss: 0.1704 - val_accuracy: 0.9375\n",
      "Epoch 27/30\n",
      "7/7 [==============================] - 0s 8ms/step - loss: 0.0454 - accuracy: 0.9844 - val_loss: 0.2316 - val_accuracy: 0.9062\n",
      "Epoch 28/30\n",
      "7/7 [==============================] - 0s 8ms/step - loss: 0.0192 - accuracy: 1.0000 - val_loss: 0.2509 - val_accuracy: 0.8750\n",
      "Epoch 29/30\n",
      "7/7 [==============================] - 0s 10ms/step - loss: 0.0280 - accuracy: 0.9844 - val_loss: 0.4170 - val_accuracy: 0.8750\n",
      "Epoch 30/30\n",
      "7/7 [==============================] - 0s 9ms/step - loss: 0.0192 - accuracy: 1.0000 - val_loss: 0.2650 - val_accuracy: 0.9375\n"
     ]
    }
   ],
   "source": [
    "EPOCHS = 30\n",
    "history = model.fit(train_data, train_labels, epochs=EPOCHS, validation_data=(test_data, test_labels), batch_size=10)"
   ]
  },
  {
   "cell_type": "code",
   "execution_count": 12,
   "metadata": {},
   "outputs": [
    {
     "data": {
      "image/png": "[encoded data removed]",
      "text/plain": [
       "<Figure size 432x288 with 1 Axes>"
      ]
     },
     "metadata": {
      "needs_background": "light"
     },
     "output_type": "display_data"
    },
    {
     "data": {
      "image/png": "[encoded data removed]",
      "text/plain": [
       "<Figure size 432x288 with 1 Axes>"
      ]
     },
     "metadata": {
      "needs_background": "light"
     },
     "output_type": "display_data"
    }
   ],
   "source": [
    "# Plot training & validation accuracy values\n",
    "plt.plot(history.history['accuracy'])\n",
    "plt.plot(history.history['val_accuracy'])\n",
    "\n",
    "plt.title('Model accuracy')\n",
    "plt.ylabel('Accuracy')\n",
    "plt.xlabel('Epoch')\n",
    "plt.legend(['Train', 'Test'], loc='upper left')\n",
    "plt.show()\n",
    "\n",
    "# Plot training & validation loss values\n",
    "plt.plot(history.history['loss'])\n",
    "plt.plot(history.history['val_loss'])\n",
    "plt.title('Model loss')\n",
    "plt.ylabel('Loss')\n",
    "plt.xlabel('Epoch')\n",
    "plt.legend(['Train', 'Test'], loc='upper left')\n",
    "plt.show()"
   ]
  },
  {
   "cell_type": "code",
   "execution_count": null,
   "metadata": {},
   "outputs": [],
   "source": []
  }
 ],
 "metadata": {
  "kernelspec": {
   "display_name": "Python 3",
   "language": "python",
   "name": "python3"
  },
  "language_info": {
   "codemirror_mode": {
    "name": "ipython",
    "version": 3
   },
   "file_extension": ".py",
   "mimetype": "text/x-python",
   "name": "python",
   "nbconvert_exporter": "python",
   "pygments_lexer": "ipython3",
   "version": "3.7.6"
  }
 },
 "nbformat": 4,
 "nbformat_minor": 2
}
