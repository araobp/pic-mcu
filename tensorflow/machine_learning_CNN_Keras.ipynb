{
 "cells": [
  {
   "cell_type": "markdown",
   "metadata": {},
   "source": [
    "# Machine learning with TensorFlow: CNN\n",
    "\n",
    "Date: November 20, 2018\n",
    "\n",
    "Neural network: convolution, fully-connected and softmax\n",
    "\n",
    "Classification of human body motion:\n",
    "- walking\n",
    "- sitting down\n",
    "- turning right while walking\n",
    "- turning left while walking"
   ]
  },
  {
   "cell_type": "code",
   "execution_count": 12,
   "metadata": {},
   "outputs": [],
   "source": [
    "%matplotlib inline\n",
    "\n",
    "import matplotlib\n",
    "import matplotlib.pyplot as plt\n",
    "import numpy as np\n",
    "import pandas as pd\n",
    "import scipy.signal as sg\n",
    "import serial\n",
    "import time\n",
    "import random"
   ]
  },
  {
   "cell_type": "markdown",
   "metadata": {},
   "source": [
    "## Preparing data set for training CNN"
   ]
  },
  {
   "cell_type": "code",
   "execution_count": 13,
   "metadata": {},
   "outputs": [],
   "source": [
    "SAMPLE_NUMS = 260  # per sec\n",
    "SAMPLING_RATE = 80.0  # Hz\n",
    "GYRO_RESOLUTION = 250.0 / 32768.0\n",
    "ACCEL_RESOLUTION = 2.0 / 32768.0\n",
    "\n",
    "TRAINING_SET = [['./20180821_walking_straight.csv', 0],\n",
    "               ['./20180821_sitting.csv', 1],\n",
    "               ['./20180821_turning_left.csv', 2],\n",
    "               ['./20180821_turning_right.csv', 3],                \n",
    "               ['./20180823_walking_straight.csv', 0],\n",
    "               ['./20180823_sitting.csv', 1],\n",
    "               ['./20180823_turning_left.csv', 2],\n",
    "               ['./20180823_turning_right.csv', 3]]\n",
    "\n",
    "TEST_SET = [['./20180822_walking_straight.csv', 0],\n",
    "            ['./20180822_sitting.csv', 1],\n",
    "            ['./20180822_turning_left.csv', 2],\n",
    "            ['./20180822_turning_right.csv', 3]]\n",
    "\n",
    "TIME_INTERVAL = 260.0 / SAMPLING_RATE  # sec\n",
    "\n",
    "MEASUREMENTS = 8\n",
    "RECORDS = 260"
   ]
  },
  {
   "cell_type": "code",
   "execution_count": 14,
   "metadata": {},
   "outputs": [],
   "source": [
    "gres = lambda v: v * GYRO_RESOLUTION\n",
    "ares = lambda v: v * ACCEL_RESOLUTION\n",
    "to_time = lambda v: v / SAMPLING_RATE\n",
    "\n",
    "def conv(df, lpf=False):\n",
    "    df[['gx', 'gy', 'gz']] = df[['gx', 'gy', 'gz']].apply(gres)\n",
    "    df[['ax', 'ay', 'az']] = df[['ax', 'ay', 'az']].apply(ares)\n",
    "    if lpf:\n",
    "        CUTOFF = 10.0\n",
    "        b, a = sg.butter(5, CUTOFF/SAMPLING_RATE, btype='low')\n",
    "        df[['ax', 'ay', 'az']] = df[['ax', 'ay', 'az']].apply(lambda row: sg.lfilter(b, a, row))\n",
    "        CUTOFF = 10.0\n",
    "        b, a = sg.butter(5, CUTOFF/SAMPLING_RATE, btype='low')\n",
    "        df[['gx', 'gy', 'gz']] = df[['gx', 'gy', 'gz']].apply(lambda row: sg.lfilter(b, a, row))\n",
    "    df[['cnt']] = df[['cnt']].apply(to_time)\n",
    "    df.set_index('cnt', drop=True, inplace=True)"
   ]
  },
  {
   "cell_type": "code",
   "execution_count": 15,
   "metadata": {
    "scrolled": false
   },
   "outputs": [],
   "source": [
    "training_set = []\n",
    "test_set = []\n",
    "\n",
    "for file, l in TRAINING_SET:\n",
    "    df = pd.read_csv(file, dtype=np.int16)\n",
    "    conv(df, lpf=True)\n",
    "    for i in range(MEASUREMENTS):\n",
    "        training_set.append([df[df['id']==i], l])\n",
    "        \n",
    "for file, l in TEST_SET:\n",
    "    df = pd.read_csv(file, dtype=np.int16)\n",
    "    conv(df, lpf=True)\n",
    "    for i in range(MEASUREMENTS):\n",
    "        test_set.append([df[df['id']==i], l])\n",
    "    \n",
    "random.shuffle(training_set)\n",
    "random.shuffle(test_set)"
   ]
  },
  {
   "cell_type": "code",
   "execution_count": 16,
   "metadata": {
    "scrolled": false
   },
   "outputs": [],
   "source": [
    "# use accel x axis and gyro z axis values for classification of human body motion\n",
    "train_x, train_t = [], []\n",
    "test_x, test_t = [], []\n",
    "for df, label in training_set:\n",
    "    values = []\n",
    "    for index, item in df.iterrows():\n",
    "        values.append([item['ax'],item['ay'],item['az'],item['gx'],item['gy'],item['gz']])\n",
    "    train_x.append(values)\n",
    "    train_t.append(label)\n",
    "for df, label in test_set:\n",
    "    values = []\n",
    "    for index, item in df.iterrows():\n",
    "        values.append([item['ax'],item['ay'],item['az'],item['gx'],item['gy'],item['gz']])                     \n",
    "    test_x.append(values)\n",
    "    test_t.append(label)"
   ]
  },
  {
   "cell_type": "code",
   "execution_count": 17,
   "metadata": {},
   "outputs": [
    {
     "data": {
      "text/plain": [
       "(64, 260, 6)"
      ]
     },
     "execution_count": 17,
     "metadata": {},
     "output_type": "execute_result"
    }
   ],
   "source": [
    "from keras.utils import to_categorical\n",
    "\n",
    "train_labels=to_categorical(train_t)\n",
    "test_labels=to_categorical(test_t)\n",
    "\n",
    "train_data = np.array(train_x)\n",
    "test_data = np.array(test_x)\n",
    "\n",
    "train_data.shape"
   ]
  },
  {
   "cell_type": "markdown",
   "metadata": {},
   "source": [
    "## Keras/TensorFlow"
   ]
  },
  {
   "cell_type": "code",
   "execution_count": 18,
   "metadata": {},
   "outputs": [],
   "source": [
    "num_samples = 260\n",
    "num_classes = 4\n",
    "num_layers = 6"
   ]
  },
  {
   "cell_type": "code",
   "execution_count": 19,
   "metadata": {},
   "outputs": [
    {
     "name": "stdout",
     "output_type": "stream",
     "text": [
      "_________________________________________________________________\n",
      "Layer (type)                 Output Shape              Param #   \n",
      "=================================================================\n",
      "conv1d_4 (Conv1D)            (None, 249, 4)            292       \n",
      "_________________________________________________________________\n",
      "max_pooling1d_4 (MaxPooling1 (None, 124, 4)            0         \n",
      "_________________________________________________________________\n",
      "conv1d_5 (Conv1D)            (None, 113, 8)            392       \n",
      "_________________________________________________________________\n",
      "max_pooling1d_5 (MaxPooling1 (None, 56, 8)             0         \n",
      "_________________________________________________________________\n",
      "conv1d_6 (Conv1D)            (None, 45, 16)            1552      \n",
      "_________________________________________________________________\n",
      "max_pooling1d_6 (MaxPooling1 (None, 22, 16)            0         \n",
      "_________________________________________________________________\n",
      "flatten_2 (Flatten)          (None, 352)               0         \n",
      "_________________________________________________________________\n",
      "dropout_2 (Dropout)          (None, 352)               0         \n",
      "_________________________________________________________________\n",
      "dense_2 (Dense)              (None, 4)                 1412      \n",
      "=================================================================\n",
      "Total params: 3,648\n",
      "Trainable params: 3,648\n",
      "Non-trainable params: 0\n",
      "_________________________________________________________________\n"
     ]
    }
   ],
   "source": [
    "from keras import layers\n",
    "from keras import models\n",
    "\n",
    "model = models.Sequential()\n",
    "\n",
    "model.add(layers.Conv1D(4, 12, activation='relu', input_shape=(num_samples, num_layers)))\n",
    "model.add(layers.MaxPooling1D(2))\n",
    "\n",
    "model.add(layers.Conv1D(8, 12, activation='relu'))\n",
    "model.add(layers.MaxPooling1D(2))\n",
    "\n",
    "model.add(layers.Conv1D(16, 12, activation='relu'))\n",
    "model.add(layers.MaxPooling1D(2))\n",
    "\n",
    "model.add(layers.Flatten())\n",
    "model.add(layers.Dropout(0.5))\n",
    "model.add(layers.Dense(num_classes, activation='softmax'))\n",
    "\n",
    "model.summary()"
   ]
  },
  {
   "cell_type": "code",
   "execution_count": 20,
   "metadata": {},
   "outputs": [
    {
     "data": {
      "image/svg+xml": [
       "<svg height=\"702pt\" viewBox=\"0.00 0.00 263.00 702.00\" width=\"263pt\" xmlns=\"http://www.w3.org/2000/svg\" xmlns:xlink=\"http://www.w3.org/1999/xlink\">\n",
       "<g class=\"graph\" id=\"graph0\" transform=\"scale(1 1) rotate(0) translate(4 698)\">\n",
       "<title>G</title>\n",
       "<polygon fill=\"white\" points=\"-4,4 -4,-698 259,-698 259,4 -4,4\" stroke=\"none\"/>\n",
       "<!-- 1599006864 -->\n",
       "<g class=\"node\" id=\"node1\"><title>1599006864</title>\n",
       "<polygon fill=\"none\" points=\"52,-584.5 52,-620.5 203,-620.5 203,-584.5 52,-584.5\" stroke=\"black\"/>\n",
       "<text font-family=\"Times,serif\" font-size=\"14.00\" text-anchor=\"middle\" x=\"127.5\" y=\"-598.8\">conv1d_4: Conv1D</text>\n",
       "</g>\n",
       "<!-- 1599007824 -->\n",
       "<g class=\"node\" id=\"node2\"><title>1599007824</title>\n",
       "<polygon fill=\"none\" points=\"0,-511.5 0,-547.5 255,-547.5 255,-511.5 0,-511.5\" stroke=\"black\"/>\n",
       "<text font-family=\"Times,serif\" font-size=\"14.00\" text-anchor=\"middle\" x=\"127.5\" y=\"-525.8\">max_pooling1d_4: MaxPooling1D</text>\n",
       "</g>\n",
       "<!-- 1599006864&#45;&gt;1599007824 -->\n",
       "<g class=\"edge\" id=\"edge2\"><title>1599006864-&gt;1599007824</title>\n",
       "<path d=\"M127.5,-584.313C127.5,-576.289 127.5,-566.547 127.5,-557.569\" fill=\"none\" stroke=\"black\"/>\n",
       "<polygon fill=\"black\" points=\"131,-557.529 127.5,-547.529 124,-557.529 131,-557.529\" stroke=\"black\"/>\n",
       "</g>\n",
       "<!-- 1676054032 -->\n",
       "<g class=\"node\" id=\"node3\"><title>1676054032</title>\n",
       "<polygon fill=\"none\" points=\"52,-438.5 52,-474.5 203,-474.5 203,-438.5 52,-438.5\" stroke=\"black\"/>\n",
       "<text font-family=\"Times,serif\" font-size=\"14.00\" text-anchor=\"middle\" x=\"127.5\" y=\"-452.8\">conv1d_5: Conv1D</text>\n",
       "</g>\n",
       "<!-- 1599007824&#45;&gt;1676054032 -->\n",
       "<g class=\"edge\" id=\"edge3\"><title>1599007824-&gt;1676054032</title>\n",
       "<path d=\"M127.5,-511.313C127.5,-503.289 127.5,-493.547 127.5,-484.569\" fill=\"none\" stroke=\"black\"/>\n",
       "<polygon fill=\"black\" points=\"131,-484.529 127.5,-474.529 124,-484.529 131,-484.529\" stroke=\"black\"/>\n",
       "</g>\n",
       "<!-- 1600014064 -->\n",
       "<g class=\"node\" id=\"node4\"><title>1600014064</title>\n",
       "<polygon fill=\"none\" points=\"0,-365.5 0,-401.5 255,-401.5 255,-365.5 0,-365.5\" stroke=\"black\"/>\n",
       "<text font-family=\"Times,serif\" font-size=\"14.00\" text-anchor=\"middle\" x=\"127.5\" y=\"-379.8\">max_pooling1d_5: MaxPooling1D</text>\n",
       "</g>\n",
       "<!-- 1676054032&#45;&gt;1600014064 -->\n",
       "<g class=\"edge\" id=\"edge4\"><title>1676054032-&gt;1600014064</title>\n",
       "<path d=\"M127.5,-438.313C127.5,-430.289 127.5,-420.547 127.5,-411.569\" fill=\"none\" stroke=\"black\"/>\n",
       "<polygon fill=\"black\" points=\"131,-411.529 127.5,-401.529 124,-411.529 131,-411.529\" stroke=\"black\"/>\n",
       "</g>\n",
       "<!-- 1599083888 -->\n",
       "<g class=\"node\" id=\"node5\"><title>1599083888</title>\n",
       "<polygon fill=\"none\" points=\"52,-292.5 52,-328.5 203,-328.5 203,-292.5 52,-292.5\" stroke=\"black\"/>\n",
       "<text font-family=\"Times,serif\" font-size=\"14.00\" text-anchor=\"middle\" x=\"127.5\" y=\"-306.8\">conv1d_6: Conv1D</text>\n",
       "</g>\n",
       "<!-- 1600014064&#45;&gt;1599083888 -->\n",
       "<g class=\"edge\" id=\"edge5\"><title>1600014064-&gt;1599083888</title>\n",
       "<path d=\"M127.5,-365.313C127.5,-357.289 127.5,-347.547 127.5,-338.569\" fill=\"none\" stroke=\"black\"/>\n",
       "<polygon fill=\"black\" points=\"131,-338.529 127.5,-328.529 124,-338.529 131,-338.529\" stroke=\"black\"/>\n",
       "</g>\n",
       "<!-- 1599083920 -->\n",
       "<g class=\"node\" id=\"node6\"><title>1599083920</title>\n",
       "<polygon fill=\"none\" points=\"0,-219.5 0,-255.5 255,-255.5 255,-219.5 0,-219.5\" stroke=\"black\"/>\n",
       "<text font-family=\"Times,serif\" font-size=\"14.00\" text-anchor=\"middle\" x=\"127.5\" y=\"-233.8\">max_pooling1d_6: MaxPooling1D</text>\n",
       "</g>\n",
       "<!-- 1599083888&#45;&gt;1599083920 -->\n",
       "<g class=\"edge\" id=\"edge6\"><title>1599083888-&gt;1599083920</title>\n",
       "<path d=\"M127.5,-292.313C127.5,-284.289 127.5,-274.547 127.5,-265.569\" fill=\"none\" stroke=\"black\"/>\n",
       "<polygon fill=\"black\" points=\"131,-265.529 127.5,-255.529 124,-265.529 131,-265.529\" stroke=\"black\"/>\n",
       "</g>\n",
       "<!-- 1816345968 -->\n",
       "<g class=\"node\" id=\"node7\"><title>1816345968</title>\n",
       "<polygon fill=\"none\" points=\"57,-146.5 57,-182.5 198,-182.5 198,-146.5 57,-146.5\" stroke=\"black\"/>\n",
       "<text font-family=\"Times,serif\" font-size=\"14.00\" text-anchor=\"middle\" x=\"127.5\" y=\"-160.8\">flatten_2: Flatten</text>\n",
       "</g>\n",
       "<!-- 1599083920&#45;&gt;1816345968 -->\n",
       "<g class=\"edge\" id=\"edge7\"><title>1599083920-&gt;1816345968</title>\n",
       "<path d=\"M127.5,-219.313C127.5,-211.289 127.5,-201.547 127.5,-192.569\" fill=\"none\" stroke=\"black\"/>\n",
       "<polygon fill=\"black\" points=\"131,-192.529 127.5,-182.529 124,-192.529 131,-192.529\" stroke=\"black\"/>\n",
       "</g>\n",
       "<!-- 1816345456 -->\n",
       "<g class=\"node\" id=\"node8\"><title>1816345456</title>\n",
       "<polygon fill=\"none\" points=\"49,-73.5 49,-109.5 206,-109.5 206,-73.5 49,-73.5\" stroke=\"black\"/>\n",
       "<text font-family=\"Times,serif\" font-size=\"14.00\" text-anchor=\"middle\" x=\"127.5\" y=\"-87.8\">dropout_2: Dropout</text>\n",
       "</g>\n",
       "<!-- 1816345968&#45;&gt;1816345456 -->\n",
       "<g class=\"edge\" id=\"edge8\"><title>1816345968-&gt;1816345456</title>\n",
       "<path d=\"M127.5,-146.313C127.5,-138.289 127.5,-128.547 127.5,-119.569\" fill=\"none\" stroke=\"black\"/>\n",
       "<polygon fill=\"black\" points=\"131,-119.529 127.5,-109.529 124,-119.529 131,-119.529\" stroke=\"black\"/>\n",
       "</g>\n",
       "<!-- 1816345808 -->\n",
       "<g class=\"node\" id=\"node9\"><title>1816345808</title>\n",
       "<polygon fill=\"none\" points=\"63.5,-0.5 63.5,-36.5 191.5,-36.5 191.5,-0.5 63.5,-0.5\" stroke=\"black\"/>\n",
       "<text font-family=\"Times,serif\" font-size=\"14.00\" text-anchor=\"middle\" x=\"127.5\" y=\"-14.8\">dense_2: Dense</text>\n",
       "</g>\n",
       "<!-- 1816345456&#45;&gt;1816345808 -->\n",
       "<g class=\"edge\" id=\"edge9\"><title>1816345456-&gt;1816345808</title>\n",
       "<path d=\"M127.5,-73.3129C127.5,-65.2895 127.5,-55.5475 127.5,-46.5691\" fill=\"none\" stroke=\"black\"/>\n",
       "<polygon fill=\"black\" points=\"131,-46.5288 127.5,-36.5288 124,-46.5289 131,-46.5288\" stroke=\"black\"/>\n",
       "</g>\n",
       "<!-- 1817942416 -->\n",
       "<g class=\"node\" id=\"node10\"><title>1817942416</title>\n",
       "<polygon fill=\"none\" points=\"74,-657.5 74,-693.5 181,-693.5 181,-657.5 74,-657.5\" stroke=\"black\"/>\n",
       "<text font-family=\"Times,serif\" font-size=\"14.00\" text-anchor=\"middle\" x=\"127.5\" y=\"-671.8\">1817942416</text>\n",
       "</g>\n",
       "<!-- 1817942416&#45;&gt;1599006864 -->\n",
       "<g class=\"edge\" id=\"edge1\"><title>1817942416-&gt;1599006864</title>\n",
       "<path d=\"M127.5,-657.313C127.5,-649.289 127.5,-639.547 127.5,-630.569\" fill=\"none\" stroke=\"black\"/>\n",
       "<polygon fill=\"black\" points=\"131,-630.529 127.5,-620.529 124,-630.529 131,-630.529\" stroke=\"black\"/>\n",
       "</g>\n",
       "</g>\n",
       "</svg>"
      ],
      "text/plain": [
       "<IPython.core.display.SVG object>"
      ]
     },
     "execution_count": 20,
     "metadata": {},
     "output_type": "execute_result"
    }
   ],
   "source": [
    "model.compile(optimizer='rmsprop', loss='categorical_crossentropy', metrics=['accuracy'])\n",
    "\n",
    "from IPython.display import SVG\n",
    "from keras.utils.vis_utils import model_to_dot\n",
    "\n",
    "SVG(model_to_dot(model).create(prog='dot', format='svg'))"
   ]
  },
  {
   "cell_type": "code",
   "execution_count": 21,
   "metadata": {},
   "outputs": [
    {
     "name": "stdout",
     "output_type": "stream",
     "text": [
      "Train on 64 samples, validate on 32 samples\n",
      "Epoch 1/30\n",
      "64/64 [==============================] - 4s 55ms/step - loss: 3.8112 - acc: 0.3750 - val_loss: 1.8127 - val_acc: 0.2813\n",
      "Epoch 2/30\n",
      "64/64 [==============================] - 0s 6ms/step - loss: 2.5595 - acc: 0.2656 - val_loss: 1.2054 - val_acc: 0.4375\n",
      "Epoch 3/30\n",
      "64/64 [==============================] - 0s 7ms/step - loss: 2.0510 - acc: 0.4375 - val_loss: 1.1341 - val_acc: 0.4375\n",
      "Epoch 4/30\n",
      "64/64 [==============================] - 0s 5ms/step - loss: 1.2303 - acc: 0.5625 - val_loss: 0.8359 - val_acc: 0.5938\n",
      "Epoch 5/30\n",
      "64/64 [==============================] - 0s 6ms/step - loss: 1.1510 - acc: 0.6094 - val_loss: 0.7354 - val_acc: 0.6875\n",
      "Epoch 6/30\n",
      "64/64 [==============================] - 0s 6ms/step - loss: 0.9110 - acc: 0.6406 - val_loss: 0.6366 - val_acc: 0.6875\n",
      "Epoch 7/30\n",
      "64/64 [==============================] - 0s 6ms/step - loss: 0.8491 - acc: 0.6563 - val_loss: 0.5721 - val_acc: 0.7812\n",
      "Epoch 8/30\n",
      "64/64 [==============================] - 0s 6ms/step - loss: 0.8586 - acc: 0.6250 - val_loss: 0.5937 - val_acc: 0.8125\n",
      "Epoch 9/30\n",
      "64/64 [==============================] - 0s 6ms/step - loss: 0.9176 - acc: 0.7344 - val_loss: 0.5591 - val_acc: 0.8437\n",
      "Epoch 10/30\n",
      "64/64 [==============================] - 0s 5ms/step - loss: 0.5991 - acc: 0.7656 - val_loss: 0.6574 - val_acc: 0.8437\n",
      "Epoch 11/30\n",
      "64/64 [==============================] - 0s 7ms/step - loss: 0.3413 - acc: 0.9062 - val_loss: 0.6925 - val_acc: 0.8750\n",
      "Epoch 12/30\n",
      "64/64 [==============================] - 0s 5ms/step - loss: 0.5921 - acc: 0.8125 - val_loss: 0.5190 - val_acc: 0.8125\n",
      "Epoch 13/30\n",
      "64/64 [==============================] - 0s 5ms/step - loss: 0.2480 - acc: 0.9375 - val_loss: 0.5591 - val_acc: 0.8750\n",
      "Epoch 14/30\n",
      "64/64 [==============================] - 0s 6ms/step - loss: 0.1699 - acc: 0.9687 - val_loss: 0.5565 - val_acc: 0.8750\n",
      "Epoch 15/30\n",
      "64/64 [==============================] - 0s 5ms/step - loss: 0.4074 - acc: 0.8750 - val_loss: 0.4261 - val_acc: 0.8750\n",
      "Epoch 16/30\n",
      "64/64 [==============================] - 0s 6ms/step - loss: 0.3726 - acc: 0.9062 - val_loss: 0.4563 - val_acc: 0.8750\n",
      "Epoch 17/30\n",
      "64/64 [==============================] - 0s 6ms/step - loss: 0.3818 - acc: 0.8750 - val_loss: 0.2726 - val_acc: 0.9687\n",
      "Epoch 18/30\n",
      "64/64 [==============================] - 0s 6ms/step - loss: 0.0913 - acc: 0.9844 - val_loss: 0.3796 - val_acc: 0.8750\n",
      "Epoch 19/30\n",
      "64/64 [==============================] - 0s 6ms/step - loss: 0.1166 - acc: 0.9375 - val_loss: 0.3274 - val_acc: 0.8750\n",
      "Epoch 20/30\n",
      "64/64 [==============================] - 0s 6ms/step - loss: 0.0526 - acc: 1.0000 - val_loss: 0.3535 - val_acc: 0.8750\n",
      "Epoch 21/30\n",
      "64/64 [==============================] - 0s 6ms/step - loss: 0.2609 - acc: 0.9531 - val_loss: 0.3542 - val_acc: 0.8750\n",
      "Epoch 22/30\n",
      "64/64 [==============================] - 0s 6ms/step - loss: 0.2408 - acc: 0.9687 - val_loss: 0.2677 - val_acc: 0.9062\n",
      "Epoch 23/30\n",
      "64/64 [==============================] - 0s 6ms/step - loss: 0.0883 - acc: 0.9687 - val_loss: 0.3227 - val_acc: 0.8750\n",
      "Epoch 24/30\n",
      "64/64 [==============================] - 0s 5ms/step - loss: 0.0217 - acc: 1.0000 - val_loss: 0.2342 - val_acc: 0.9375\n",
      "Epoch 25/30\n",
      "64/64 [==============================] - 0s 5ms/step - loss: 0.0463 - acc: 0.9844 - val_loss: 0.2419 - val_acc: 0.9687\n",
      "Epoch 26/30\n",
      "64/64 [==============================] - 0s 6ms/step - loss: 0.1889 - acc: 0.9531 - val_loss: 0.3109 - val_acc: 0.9062\n",
      "Epoch 27/30\n",
      "64/64 [==============================] - 0s 5ms/step - loss: 0.0757 - acc: 0.9687 - val_loss: 0.2062 - val_acc: 0.9687\n",
      "Epoch 28/30\n",
      "64/64 [==============================] - 0s 5ms/step - loss: 0.0385 - acc: 0.9844 - val_loss: 0.4542 - val_acc: 0.8750\n",
      "Epoch 29/30\n",
      "64/64 [==============================] - 0s 5ms/step - loss: 0.0351 - acc: 0.9844 - val_loss: 0.4252 - val_acc: 0.8750\n",
      "Epoch 30/30\n",
      "64/64 [==============================] - 0s 6ms/step - loss: 0.0292 - acc: 1.0000 - val_loss: 0.2277 - val_acc: 0.9375\n"
     ]
    }
   ],
   "source": [
    "EPOCHS = 30\n",
    "history = model.fit(train_data, train_labels, epochs=EPOCHS, validation_data=(test_data, test_labels), batch_size=10)"
   ]
  },
  {
   "cell_type": "code",
   "execution_count": 22,
   "metadata": {},
   "outputs": [
    {
     "data": {
      "image/png": "[encoded data removed]",
      "text/plain": [
       "<matplotlib.figure.Figure at 0x5f1e1950>"
      ]
     },
     "metadata": {
      "needs_background": "light"
     },
     "output_type": "display_data"
    },
    {
     "data": {
      "image/png": "[encoded data removed]",
      "text/plain": [
       "<matplotlib.figure.Figure at 0x5f171e70>"
      ]
     },
     "metadata": {
      "needs_background": "light"
     },
     "output_type": "display_data"
    }
   ],
   "source": [
    "# Plot training & validation accuracy values\n",
    "plt.plot(history.history['acc'])\n",
    "plt.plot(history.history['val_acc'])\n",
    "\n",
    "plt.title('Model accuracy')\n",
    "plt.ylabel('Accuracy')\n",
    "plt.xlabel('Epoch')\n",
    "plt.legend(['Train', 'Test'], loc='upper left')\n",
    "plt.show()\n",
    "\n",
    "# Plot training & validation loss values\n",
    "plt.plot(history.history['loss'])\n",
    "plt.plot(history.history['val_loss'])\n",
    "plt.title('Model loss')\n",
    "plt.ylabel('Loss')\n",
    "plt.xlabel('Epoch')\n",
    "plt.legend(['Train', 'Test'], loc='upper left')\n",
    "plt.show()"
   ]
  },
  {
   "cell_type": "code",
   "execution_count": null,
   "metadata": {},
   "outputs": [],
   "source": []
  }
 ],
 "metadata": {
  "kernelspec": {
   "display_name": "Python 3",
   "language": "python",
   "name": "python3"
  },
  "language_info": {
   "codemirror_mode": {
    "name": "ipython",
    "version": 3
   },
   "file_extension": ".py",
   "mimetype": "text/x-python",
   "name": "python",
   "nbconvert_exporter": "python",
   "pygments_lexer": "ipython3",
   "version": "3.5.3"
  }
 },
 "nbformat": 4,
 "nbformat_minor": 2
}
